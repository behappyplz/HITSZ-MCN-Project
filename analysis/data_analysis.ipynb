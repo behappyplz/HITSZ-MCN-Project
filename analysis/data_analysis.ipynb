{
 "cells": [
  {
   "cell_type": "markdown",
   "metadata": {},
   "source": [
    "## Modeling of Complex Network Project"
   ]
  },
  {
   "cell_type": "code",
   "execution_count": null,
   "metadata": {},
   "outputs": [],
   "source": [
    "import pandas as pd\n",
    "import numpy as np\n",
    "import networkx as nx\n",
    "import matplotlib.pyplot as plt\n",
    "import seaborn as sns\n",
    "import os\n",
    "data_dir = os.path.expanduser(\"./data/cora\")"
   ]
  },
  {
   "cell_type": "code",
   "execution_count": null,
   "metadata": {},
   "outputs": [],
   "source": [
    "edgelist = pd.read_csv(os.path.join(data_dir, \"cora.cites\"), sep='\\t', header=None, names=[\"target\", \"source\"])\n",
    "edgelist[\"label\"] = \"cites\"\n",
    "G = nx.from_pandas_edgelist(edgelist, edge_attr=\"label\")\n",
    "nx.set_node_attributes(G, \"paper\", \"label\")"
   ]
  },
  {
   "cell_type": "code",
   "execution_count": null,
   "metadata": {},
   "outputs": [],
   "source": [
    "feature_names = [\"w_{}\".format(ii) for ii in range(1433)]\n",
    "column_names =  feature_names + [\"subject\"]\n",
    "node_data = pd.read_csv(os.path.join(data_dir, \"cora.content\"), sep='\\t', header=None, names=column_names)"
   ]
  },
  {
   "cell_type": "code",
   "execution_count": null,
   "metadata": {},
   "outputs": [],
   "source": [
    "node_data.head()"
   ]
  },
  {
   "cell_type": "code",
   "execution_count": null,
   "metadata": {},
   "outputs": [],
   "source": [
    "G = nx.read_edgelist(data_dir+\"/cora_graph.txt\", delimiter=\" \", nodetype=int)"
   ]
  },
  {
   "cell_type": "markdown",
   "metadata": {},
   "source": [
    "### 1. Calculate Node Degree Distribution"
   ]
  },
  {
   "cell_type": "code",
   "execution_count": null,
   "metadata": {},
   "outputs": [],
   "source": [
    "G.degree()\n",
    "average_degree = nx.average_neighbor_degree(G)\n",
    "average_degree"
   ]
  },
  {
   "cell_type": "code",
   "execution_count": null,
   "metadata": {},
   "outputs": [],
   "source": [
    "degrees = [degree for _, degree in G.degree()]\n",
    "print(np.mean(degrees))\n",
    "# 创建直方图\n",
    "fig, ax = plt.subplots(figsize=(10, 6))\n",
    "plt.hist(degrees, bins=range(1, max(degrees)+2), align='left', rwidth=0.8, color='skyblue', edgecolor='darkblue')\n",
    "\n",
    "\n",
    "plt.title('Degree Distribution', fontsize=16)\n",
    "plt.xlabel('Degree', fontsize=14)\n",
    "plt.ylabel('Number of nodes', fontsize=14)\n",
    "\n",
    "\n",
    "ax.grid(True, which='both', linestyle='--', linewidth=0.5, alpha=0.6)\n",
    "\n",
    "\n",
    "plt.tight_layout()\n",
    "plt.show()\n"
   ]
  },
  {
   "cell_type": "code",
   "execution_count": null,
   "metadata": {},
   "outputs": [],
   "source": [
    "# 设置seaborn样式\n",
    "sns.set_style(\"whitegrid\")\n",
    "\n",
    "# 创建直方图\n",
    "fig, ax = plt.subplots(figsize=(10, 6))\n",
    "bins = 2**np.arange(0, np.log2(max(degrees)) + 1)\n",
    "plt.hist(degrees, bins=bins, align='mid', rwidth=0.97, color='skyblue', edgecolor='black')\n",
    "\n",
    "# 使用对数-对数轴\n",
    "ax.set_xscale('log')\n",
    "ax.set_yscale('log')\n",
    "\n",
    "# 设置图形标题和标签\n",
    "plt.title('Degree Distribution', fontsize=16)\n",
    "plt.xlabel('Degree', fontsize=14)\n",
    "plt.ylabel('Number of nodes', fontsize=14)\n",
    "\n",
    "# 调整边距\n",
    "plt.tight_layout()\n",
    "\n",
    "# 显示图形\n",
    "plt.show()"
   ]
  },
  {
   "cell_type": "markdown",
   "metadata": {},
   "source": [
    "### 2. Calculate Average Shortest Path Length"
   ]
  },
  {
   "cell_type": "code",
   "execution_count": null,
   "metadata": {},
   "outputs": [],
   "source": [
    "shortest_path = dict(nx.all_pairs_dijkstra_path_length(G))\n",
    "shortest_path_list = []\n",
    "for key in shortest_path.keys():\n",
    "    for key2 in shortest_path[key].keys():\n",
    "        if key == key2:\n",
    "            continue\n",
    "        shortest_path_list.append(shortest_path[key][key2])"
   ]
  },
  {
   "cell_type": "code",
   "execution_count": null,
   "metadata": {},
   "outputs": [],
   "source": [
    "np.mean(shortest_path_list)"
   ]
  },
  {
   "cell_type": "markdown",
   "metadata": {},
   "source": [
    "### 3. Calculate Clustering Coefficient"
   ]
  },
  {
   "cell_type": "code",
   "execution_count": null,
   "metadata": {},
   "outputs": [],
   "source": [
    "clustering_coeffs = nx.clustering(G)\n",
    "avg_clustering = nx.average_clustering(G)\n",
    "print(f\"Average clustering coefficient: {avg_clustering}\")"
   ]
  },
  {
   "cell_type": "code",
   "execution_count": null,
   "metadata": {},
   "outputs": [],
   "source": [
    "for node, coeff in clustering_coeffs.items():\n",
    "    print(f\"Node: {node}, Clustering Coefficient: {coeff}\")"
   ]
  },
  {
   "cell_type": "markdown",
   "metadata": {},
   "source": [
    "### 4. Attack"
   ]
  },
  {
   "cell_type": "code",
   "execution_count": null,
   "metadata": {},
   "outputs": [],
   "source": [
    "initial_lcc = max(nx.connected_components(G), key=len)"
   ]
  },
  {
   "cell_type": "code",
   "execution_count": null,
   "metadata": {},
   "outputs": [],
   "source": [
    "bc = nx.betweenness_centrality(G)"
   ]
  },
  {
   "cell_type": "code",
   "execution_count": null,
   "metadata": {},
   "outputs": [],
   "source": [
    "sorted(list(G.nodes()), key=lambda n: bc[n], reverse=True)"
   ]
  },
  {
   "cell_type": "code",
   "execution_count": null,
   "metadata": {},
   "outputs": [],
   "source": [
    "G.remove_node"
   ]
  },
  {
   "cell_type": "code",
   "execution_count": null,
   "metadata": {},
   "outputs": [],
   "source": [
    "import networkx as nx\n",
    "import numpy as np\n",
    "import matplotlib.pyplot as plt\n",
    "\n",
    "def attack_network(G, attack_type='random'):\n",
    "    if attack_type == 'random':\n",
    "        nodes_to_remove = list(G.nodes())\n",
    "        np.random.shuffle(nodes_to_remove)\n",
    "    elif attack_type == 'intentional':\n",
    "        nodes_to_remove = sorted(G.nodes(), key=lambda n: G.degree(n), reverse=True)\n",
    "    elif attack_type == 'betweenness':\n",
    "        bc = nx.betweenness_centrality(G)\n",
    "        nodes_to_remove = sorted(list(G.nodes()), key=lambda n: bc[n], reverse=True)\n",
    "    elif attack_type == 'closeness':\n",
    "        cc = nx.closeness_centrality(G)\n",
    "        nodes_to_remove = sorted(list(G.nodes()), key=lambda n: cc[n], reverse=True)\n",
    "    elif attack_type == 'eigenvector':\n",
    "        ec = nx.eigenvector_centrality(G)\n",
    "        nodes_to_remove = sorted(list(G.nodes()), key=lambda n: ec[n], reverse=True)\n",
    "    else:\n",
    "        raise ValueError(\"Invalid attack_type\")\n",
    "    \n",
    "    lcc_sizes = []\n",
    "    for count, node in enumerate(nodes_to_remove, 1):\n",
    "        G.remove_node(node)\n",
    "        lcc_size = len(max(nx.connected_components(G), key=len)) if G else 0\n",
    "        lcc_sizes.append(lcc_size)\n",
    "        if lcc_size == 0:\n",
    "            break\n",
    "    \n",
    "    return lcc_sizes\n",
    "\n",
    "# Attack\n",
    "print('random')\n",
    "lcc_random = attack_network(G.copy(), 'random')\n",
    "print('intentional')\n",
    "lcc_intentional = attack_network(G.copy(), 'intentional')\n",
    "print('betweenness')\n",
    "lcc_betweenness = attack_network(G.copy(), 'betweenness')\n",
    "print('closeness')\n",
    "lcc_closeness = attack_network(G.copy(), 'closeness')\n",
    "print('eigenvector')\n",
    "lcc_eigenvector = attack_network(G.copy(), 'eigenvector')\n",
    "\n",
    "# Plot results\n",
    "plt.figure(figsize=(12, 6))\n",
    "plt.plot(lcc_random, label='Random Attack', color='blue')\n",
    "plt.plot(lcc_intentional, label='Intentional Attack (Degree)', color='red')\n",
    "plt.plot(lcc_betweenness, label='Betweenness Centrality Attack', color='green')\n",
    "plt.plot(lcc_closeness, label='Closeness Centrality Attack', color='purple')\n",
    "plt.plot(lcc_eigenvector, label='Eigenvector Centrality Attack', color='orange')\n",
    "plt.xlabel('Number of Nodes Removed')\n",
    "plt.ylabel('Size of Largest Connected Component')\n",
    "plt.legend()\n",
    "plt.title('Network Robustness under Different Attacks')\n",
    "plt.show()"
   ]
  },
  {
   "cell_type": "code",
   "execution_count": null,
   "metadata": {},
   "outputs": [],
   "source": [
    "plt.figure(figsize=(12, 7))\n",
    "\n",
    "# 定义线条样式和颜色\n",
    "line_styles = ['-', '--', '-.', ':', '-']\n",
    "colors = ['blue', 'red', 'green', 'purple', 'orange']\n",
    "\n",
    "# 画图\n",
    "plt.plot(lcc_random, label='Random Attack', linestyle=line_styles[0], color=colors[0], linewidth=2)\n",
    "plt.plot(lcc_intentional, label='Intentional Attack (Degree)', linestyle=line_styles[1], color=colors[1], linewidth=2)\n",
    "plt.plot(lcc_betweenness, label='Betweenness Centrality Attack', linestyle=line_styles[2], color=colors[2], linewidth=2)\n",
    "plt.plot(lcc_closeness, label='Closeness Centrality Attack', linestyle=line_styles[3], color=colors[3], linewidth=2)\n",
    "plt.plot(lcc_eigenvector, label='Eigenvector Centrality Attack', linestyle=line_styles[4], color=colors[4], linewidth=2)\n",
    "\n",
    "# 添加标题和轴标签\n",
    "plt.title('Network Robustness under Different Attacks', fontsize=16, fontweight='bold')\n",
    "plt.xlabel('Number of Nodes Removed', fontsize=14)\n",
    "plt.ylabel('Size of Largest Connected Component', fontsize=14)\n",
    "\n",
    "# 添加网格\n",
    "plt.grid(True, linestyle='--', alpha=0.7)\n",
    "\n",
    "# 改善图例\n",
    "plt.legend(loc='upper right', fontsize=12, frameon=True, framealpha=0.9)\n",
    "\n",
    "# 显示图表\n",
    "plt.show()"
   ]
  },
  {
   "cell_type": "code",
   "execution_count": null,
   "metadata": {},
   "outputs": [],
   "source": [
    "len(G.nodes())"
   ]
  },
  {
   "cell_type": "code",
   "execution_count": null,
   "metadata": {},
   "outputs": [],
   "source": [
    "total_nodes = len(G.nodes())  # 计算总节点数\n",
    "\n",
    "lcc_random = [size / total_nodes for size in attack_network(G.copy(), 'random')]\n",
    "lcc_intentional = [size / total_nodes for size in attack_network(G.copy(), 'intentional')]\n",
    "lcc_betweenness = [size / total_nodes for size in attack_network(G.copy(), 'betweenness')]\n",
    "lcc_closeness = [size / total_nodes for size in attack_network(G.copy(), 'closeness')]\n",
    "lcc_eigenvector = [size / total_nodes for size in attack_network(G.copy(), 'eigenvector')]\n",
    "\n",
    "# 开始绘图\n",
    "plt.figure(figsize=(12, 8), dpi=300)\n",
    "\n",
    "# 定义线条样式和颜色\n",
    "line_styles = ['-', '--', '-.', ':', '-']\n",
    "colors = ['blue', 'red', 'green', 'purple', 'orange']\n",
    "\n",
    "# 绘制图形\n",
    "plt.plot(lcc_random, label='Random Attack', linestyle=line_styles[0], color=colors[0], linewidth=2)\n",
    "plt.plot(lcc_intentional, label='Intentional Attack (Degree)', linestyle=line_styles[1], color=colors[1], linewidth=2)\n",
    "plt.plot(lcc_betweenness, label='Betweenness Centrality Attack', linestyle=line_styles[2], color=colors[2], linewidth=2)\n",
    "plt.plot(lcc_closeness, label='Closeness Centrality Attack', linestyle=line_styles[3], color=colors[3], linewidth=2)\n",
    "plt.plot(lcc_eigenvector, label='Eigenvector Centrality Attack', linestyle=line_styles[4], color=colors[4], linewidth=2)\n",
    "\n",
    "# 添加标题和轴标签\n",
    "plt.title('Analysis of Attacks', fontsize=18, fontweight='bold')\n",
    "plt.xlabel('Number of Nodes Removed', fontsize=12)\n",
    "plt.ylabel('Relative Size of Largest Connected Component', fontsize=12)\n",
    "\n",
    "# 添加网格\n",
    "plt.grid(True, linestyle='--', alpha=0.7)\n",
    "\n",
    "# 改善图例\n",
    "plt.legend(loc='upper right', fontsize=12, frameon=True, framealpha=0.9)\n",
    "\n",
    "# 显示图表\n",
    "plt.show()"
   ]
  }
 ],
 "metadata": {
  "kernelspec": {
   "display_name": "torch113",
   "language": "python",
   "name": "python3"
  },
  "language_info": {
   "codemirror_mode": {
    "name": "ipython",
    "version": 3
   },
   "file_extension": ".py",
   "mimetype": "text/x-python",
   "name": "python",
   "nbconvert_exporter": "python",
   "pygments_lexer": "ipython3",
   "version": "3.1.0"
  },
  "orig_nbformat": 4
 },
 "nbformat": 4,
 "nbformat_minor": 2
}

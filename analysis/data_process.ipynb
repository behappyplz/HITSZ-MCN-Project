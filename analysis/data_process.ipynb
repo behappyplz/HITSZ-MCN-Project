{
 "cells": [
  {
   "cell_type": "markdown",
   "metadata": {},
   "source": [
    "## Modeling of Complex Network Project"
   ]
  },
  {
   "cell_type": "markdown",
   "metadata": {},
   "source": [
    "## Data Processing"
   ]
  },
  {
   "cell_type": "code",
   "execution_count": null,
   "metadata": {},
   "outputs": [],
   "source": [
    "import os\n",
    "import json\n",
    "import pandas as pd\n",
    "import numpy as np\n",
    "import networkx as nx\n",
    "import matplotlib.pyplot as plt\n",
    "import seaborn as sns\n",
    "import umap\n",
    "from SDCN.evaluation import eva\n",
    "\n",
    "data_dir = os.path.expanduser(\"./data/cora\")"
   ]
  },
  {
   "cell_type": "code",
   "execution_count": null,
   "metadata": {},
   "outputs": [],
   "source": [
    "edgelist = pd.read_csv(os.path.join(data_dir, \"cora.cites\"), sep='\\t', header=None, names=[\"target\", \"source\"])\n",
    "edgelist[\"label\"] = \"cites\"\n",
    "G = nx.from_pandas_edgelist(edgelist, edge_attr=\"label\")\n",
    "nx.set_node_attributes(G, \"paper\", \"label\")"
   ]
  },
  {
   "cell_type": "code",
   "execution_count": null,
   "metadata": {},
   "outputs": [],
   "source": [
    "feature_names = [\"w_{}\".format(ii) for ii in range(1433)]\n",
    "column_names =  feature_names + [\"subject\"]\n",
    "node_data = pd.read_csv(os.path.join(data_dir, \"cora.content\"), sep='\\t', header=None, names=column_names)"
   ]
  },
  {
   "cell_type": "code",
   "execution_count": null,
   "metadata": {},
   "outputs": [],
   "source": [
    "node_data = node_data.reset_index()\n",
    "node_data.head()"
   ]
  },
  {
   "cell_type": "markdown",
   "metadata": {},
   "source": [
    "### 1. data2json (for js)"
   ]
  },
  {
   "cell_type": "code",
   "execution_count": null,
   "metadata": {},
   "outputs": [],
   "source": [
    "subject = list(set(node_data['subject']))\n",
    "subject2id = {subject[i]:i for i in range(len(subject))}\n",
    "subject2id"
   ]
  },
  {
   "cell_type": "code",
   "execution_count": null,
   "metadata": {},
   "outputs": [],
   "source": [
    "np.unique(subject)"
   ]
  },
  {
   "cell_type": "code",
   "execution_count": null,
   "metadata": {},
   "outputs": [],
   "source": [
    "# add nodes\n",
    "nodes = []\n",
    "for i in range(len(node_data)):\n",
    "    paper_id = node_data.loc[i, 'index']\n",
    "    name = f\"paper_{paper_id}\"\n",
    "    category = subject2id[node_data.loc[i, 'subject']]\n",
    "    nodes.append({\"id\":str(paper_id), \"name\":name, \"category\": int(category)})\n",
    "# add edges\n",
    "links = []\n",
    "for i in range(len(edgelist)):\n",
    "    source = edgelist.loc[i, 'source']\n",
    "    target = edgelist.loc[i, 'target']\n",
    "    links.append({\"source\": str(source), \"target\": str(target)})\n",
    "    \n",
    "# add categories\n",
    "categories = []\n",
    "for sub in subject:\n",
    "    categories.append({\"name\": sub})\n",
    "\n",
    "cora_data = {\"nodes\": nodes, \"links\": links, \"categories\": categories}\n",
    "with open(data_dir+\"/cora_data.json\", \"w\") as json_file:\n",
    "    json.dump(cora_data, json_file)"
   ]
  },
  {
   "cell_type": "code",
   "execution_count": null,
   "metadata": {},
   "outputs": [],
   "source": [
    "cora_data = {\"nodes\": nodes, \"links\": links, \"categories\": categories}\n",
    "with open(data_dir+\"/cora_data.json\", \"w\") as json_file:\n",
    "    json.dump(cora_data, json_file)"
   ]
  },
  {
   "cell_type": "markdown",
   "metadata": {},
   "source": [
    "### 2. data2txt (for GCN model)"
   ]
  },
  {
   "cell_type": "code",
   "execution_count": null,
   "metadata": {},
   "outputs": [],
   "source": [
    "# 首先我们需要重排id\n",
    "idx_map = dict()\n",
    "for i in range(len(node_data)):\n",
    "    idx_map[node_data.loc[i, \"index\"]] = i\n",
    "## 构图\n",
    "graph = []\n",
    "for i in range(len(edgelist)):\n",
    "    source = str(idx_map[edgelist.loc[i, 'source']])\n",
    "    target = str(idx_map[edgelist.loc[i, 'target']])\n",
    "    graph.append([source, target])\n",
    "    graph.append([target, source])\n",
    "    \n",
    "sorted_graph = sorted(graph, key=lambda x: x[0])   "
   ]
  },
  {
   "cell_type": "code",
   "execution_count": null,
   "metadata": {},
   "outputs": [],
   "source": [
    "## 构建特征+标签\n",
    "features = []\n",
    "labels = []\n",
    "for i in range(len(node_data)):\n",
    "    feature = []\n",
    "    for ii in range(1433):\n",
    "        feature.append(str(node_data.loc[i, f\"w_{ii}\"]))\n",
    "    features.append(feature)\n",
    "    labels.append(subject2id[node_data.loc[i, 'subject']])"
   ]
  },
  {
   "cell_type": "markdown",
   "metadata": {},
   "source": [
    "### 3. statistics"
   ]
  },
  {
   "cell_type": "code",
   "execution_count": null,
   "metadata": {},
   "outputs": [],
   "source": [
    "stat = dict().fromkeys(subject2id.keys())\n",
    "for lb in labels:\n",
    "    if not stat[subject[lb]]:\n",
    "        stat[subject[lb]] = 1\n",
    "    else:\n",
    "        stat[subject[lb]] += 1\n",
    "stat"
   ]
  },
  {
   "cell_type": "code",
   "execution_count": null,
   "metadata": {},
   "outputs": [],
   "source": [
    "print(stat.keys())"
   ]
  },
  {
   "cell_type": "code",
   "execution_count": null,
   "metadata": {},
   "outputs": [],
   "source": [
    "# 准备数据\n",
    "lbs = stat.keys()\n",
    "sizes = stat.values()\n",
    "\n",
    "# 选择一组吸引人的颜色\n",
    "colors = ['#ff9999','#66b3ff','#99ff99','#ffcc99', '#c2c2f0','#ffb3e6', '#c4e17f']\n",
    "\n",
    "# 可以选择突出显示一个或多个切片\n",
    "explode = (0.02, 0, 0.01, 0, 0.08, 0.02, 0)  \n",
    "\n",
    "# 画饼状图\n",
    "plt.figure(figsize=(12, 8), dpi=300)\n",
    "fig1, ax1 = plt.subplots()\n",
    "ax1.pie(sizes, explode=explode, labels=lbs, colors=colors, autopct='%1.1f%%',\n",
    "        shadow=True, startangle=140, pctdistance=0.85)\n",
    "\n",
    "# 画一个白色的圆圈在图的中心（即画一个“甜甜圈图”）\n",
    "centre_circle = plt.Circle((0,0),0.70,fc='white')\n",
    "fig = plt.gcf()\n",
    "fig.gca().add_artist(centre_circle)\n",
    "\n",
    "# Equal aspect ratio 保证画出的图是圆的，显示图像\n",
    "ax1.axis('equal')  \n",
    "plt.tight_layout()\n",
    "plt.show()"
   ]
  },
  {
   "cell_type": "markdown",
   "metadata": {},
   "source": [
    "### 4. Deep Walk & clustering"
   ]
  },
  {
   "cell_type": "code",
   "execution_count": null,
   "metadata": {},
   "outputs": [],
   "source": [
    "idx_map"
   ]
  },
  {
   "cell_type": "code",
   "execution_count": null,
   "metadata": {},
   "outputs": [],
   "source": [
    "# 初始化 Node2Vec 模型\n",
    "from node2vec import Node2Vec\n",
    "node2vec = Node2Vec(G, walk_length=10, num_walks=100, p=1, q=1, workers=48)\n",
    "\n",
    "# 训练嵌入模型\n",
    "print(\"training...\")\n",
    "model = node2vec.fit(window=10, min_count=1, batch_words=4)\n",
    "print(\"finished training\")\n",
    "# 获取所有节点的嵌入\n",
    "embeddings = {}\n",
    "for node in G.nodes():\n",
    "    embeddings[node] = model.wv[str(node)]"
   ]
  },
  {
   "cell_type": "code",
   "execution_count": null,
   "metadata": {},
   "outputs": [],
   "source": [
    "from sklearn.cluster import SpectralClustering, KMeans\n",
    "x = [0 for _ in range(len(labels))]\n",
    "for k, v in embeddings.items():\n",
    "    x[idx_map[k]] = v\n",
    "kmeans = KMeans(n_clusters=7, n_init=20).fit(np.array(x))\n",
    "eva(labels, kmeans.labels_, \"dw_kmeans\")"
   ]
  },
  {
   "cell_type": "code",
   "execution_count": null,
   "metadata": {},
   "outputs": [],
   "source": [
    "umap_model = umap.UMAP(random_state=42)\n",
    "embedding = umap_model.fit_transform(np.array(x))\n",
    "\n",
    "unique_labels = np.unique(labels)\n",
    "# 使用 Seaborn 的 cubehelix_palette 调色板生成颜色\n",
    "from matplotlib.pyplot import MultipleLocator\n",
    "palette = sns.color_palette(\"hsv\", n_colors=len(unique_labels))  # 使用hsv颜色空间为每个类别生成唯一颜色\n",
    "color_map = {label: palette[i] for i, label in enumerate(unique_labels)}"
   ]
  },
  {
   "cell_type": "code",
   "execution_count": null,
   "metadata": {},
   "outputs": [],
   "source": [
    "plt.figure(figsize=(12, 8), dpi=300)\n",
    "for label in unique_labels:\n",
    "    indices = np.where(labels == label)\n",
    "    plt.scatter(embedding[indices, 0], embedding[indices, 1], c=[color_map[label]], label=subject[label], alpha=0.6, edgecolor='w', s=30)\n",
    "# plt.legend(loc='upper right', ncol=2)\n",
    "# 设置 axis刻度\n",
    "x_major_locator=MultipleLocator(2)\n",
    "y_major_locator=MultipleLocator(2)\n",
    "ax=plt.gca()\n",
    "#ax为两条坐标轴的实例\n",
    "ax.xaxis.set_major_locator(x_major_locator)\n",
    "ax.yaxis.set_major_locator(y_major_locator)\n",
    "plt.savefig('./dw_umap_wo.png')"
   ]
  },
  {
   "cell_type": "code",
   "execution_count": null,
   "metadata": {},
   "outputs": [],
   "source": [
    "plt.show()"
   ]
  },
  {
   "cell_type": "markdown",
   "metadata": {},
   "source": [
    "### 5. UMAP Algorithm"
   ]
  },
  {
   "cell_type": "code",
   "execution_count": null,
   "metadata": {},
   "outputs": [],
   "source": [
    "new_features = features\n",
    "for i in range(len(new_features)):\n",
    "    new_features[i] = [int(i) for i in new_features[i]] "
   ]
  },
  {
   "cell_type": "code",
   "execution_count": null,
   "metadata": {},
   "outputs": [],
   "source": [
    "from sklearn.random_projection import SparseRandomProjection"
   ]
  },
  {
   "cell_type": "code",
   "execution_count": null,
   "metadata": {},
   "outputs": [],
   "source": [
    "# Step 1: 使用 FastRP   ### 先降维并没有用，效果很差！\n",
    "fastrp_model = SparseRandomProjection(n_components=128, random_state=42)\n",
    "features_reduced_fastrp = fastrp_model.fit_transform(new_features)"
   ]
  },
  {
   "cell_type": "code",
   "execution_count": null,
   "metadata": {},
   "outputs": [],
   "source": [
    "labels"
   ]
  },
  {
   "cell_type": "code",
   "execution_count": null,
   "metadata": {},
   "outputs": [],
   "source": [
    "# 然后创建 UMAP 对象并进行进一步降维\n",
    "umap_model = umap.UMAP(random_state=42)\n",
    "embedding = umap_model.fit_transform(new_features)\n",
    "\n",
    "unique_labels = np.unique(labels)\n",
    "print(unique_labels)"
   ]
  },
  {
   "cell_type": "code",
   "execution_count": null,
   "metadata": {},
   "outputs": [],
   "source": [
    "# 使用 Seaborn 的 cubehelix_palette 调色板生成颜色\n",
    "from matplotlib.pyplot import MultipleLocator\n",
    "palette = sns.color_palette(\"hsv\", n_colors=len(unique_labels))  # 使用hsv颜色空间为每个类别生成唯一颜色\n",
    "color_map = {label: palette[i] for i, label in enumerate(unique_labels)}\n",
    "\n",
    "plt.figure(figsize=(12, 8), dpi=300)\n",
    "for label in unique_labels:\n",
    "    indices = np.where(labels == label)\n",
    "    plt.scatter(embedding[indices, 0], embedding[indices, 1], c=[color_map[label]], label=subject[label], alpha=0.6, edgecolor='w', s=30)\n",
    "plt.legend(loc='upper right', ncol=2)\n",
    "# 设置 axis刻度\n",
    "x_major_locator=MultipleLocator(2)\n",
    "y_major_locator=MultipleLocator(2)\n",
    "ax=plt.gca()\n",
    "#ax为两条坐标轴的实例\n",
    "ax.xaxis.set_major_locator(x_major_locator)\n",
    "ax.yaxis.set_major_locator(y_major_locator)\n",
    "plt.show()"
   ]
  },
  {
   "cell_type": "code",
   "execution_count": null,
   "metadata": {},
   "outputs": [],
   "source": [
    "tsne_df = pd.DataFrame(data = {\n",
    "   \"subject\": [subject[label] for label in labels],\n",
    "   \"x\": [value[0] for value in embedding],\n",
    "   \"y\": [value[1] for value in embedding]\n",
    "})\n",
    "tsne_df.head()"
   ]
  },
  {
   "cell_type": "code",
   "execution_count": null,
   "metadata": {},
   "outputs": [],
   "source": [
    "import altair as alt\n",
    " \n",
    "alt.Chart(tsne_df).mark_circle(size=60).encode(\n",
    "   x='x',\n",
    "   y='y',\n",
    "   color='subject',\n",
    "   tooltip=['subject']\n",
    ").properties(width=700, height=600)"
   ]
  },
  {
   "cell_type": "markdown",
   "metadata": {},
   "source": [
    "### 6. save as .txt file"
   ]
  },
  {
   "cell_type": "code",
   "execution_count": null,
   "metadata": {},
   "outputs": [],
   "source": [
    "with open(data_dir+\"/cora_graph.txt\", 'w') as f:\n",
    "    for row in sorted_graph:\n",
    "        f.write(' '.join(row) + '\\n')\n",
    "\n",
    "with open(data_dir+\"/cora.txt\", 'w') as f:\n",
    "    for row in features:\n",
    "        f.write(' '.join(row) + '\\n')\n",
    "        \n",
    "with open(data_dir+\"/cora_label.txt\", 'w') as f:\n",
    "    for row in labels:\n",
    "        f.write(str(row) + '\\n')"
   ]
  }
 ],
 "metadata": {
  "kernelspec": {
   "display_name": "torch113",
   "language": "python",
   "name": "python3"
  },
  "language_info": {
   "codemirror_mode": {
    "name": "ipython",
    "version": 3
   },
   "file_extension": ".py",
   "mimetype": "text/x-python",
   "name": "python",
   "nbconvert_exporter": "python",
   "pygments_lexer": "ipython3",
   "version": "3.11.4"
  },
  "orig_nbformat": 4
 },
 "nbformat": 4,
 "nbformat_minor": 2
}
